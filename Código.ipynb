{
 "cells": [
  {
   "cell_type": "code",
   "execution_count": 1,
   "id": "b8e8b6e3",
   "metadata": {},
   "outputs": [
    {
     "name": "stdout",
     "output_type": "stream",
     "text": [
      "Requirement already satisfied: pandas in c:\\users\\ropgr\\anaconda3\\lib\\site-packages (2.2.2)\n",
      "Requirement already satisfied: numpy>=1.26.0 in c:\\users\\ropgr\\anaconda3\\lib\\site-packages (from pandas) (1.26.4)\n",
      "Requirement already satisfied: python-dateutil>=2.8.2 in c:\\users\\ropgr\\anaconda3\\lib\\site-packages (from pandas) (2.9.0.post0)\n",
      "Requirement already satisfied: pytz>=2020.1 in c:\\users\\ropgr\\anaconda3\\lib\\site-packages (from pandas) (2024.1)\n",
      "Requirement already satisfied: tzdata>=2022.7 in c:\\users\\ropgr\\anaconda3\\lib\\site-packages (from pandas) (2023.3)\n",
      "Requirement already satisfied: six>=1.5 in c:\\users\\ropgr\\anaconda3\\lib\\site-packages (from python-dateutil>=2.8.2->pandas) (1.16.0)\n"
     ]
    }
   ],
   "source": [
    "!pip install pandas"
   ]
  },
  {
   "cell_type": "code",
   "execution_count": 2,
   "id": "6ed250f6",
   "metadata": {},
   "outputs": [
    {
     "name": "stdout",
     "output_type": "stream",
     "text": [
      "Data                                                                                                                                     0\n",
      "433 - Índice nacional de preços ao consumidor-amplo (IPCA) - Var. % mensal                                                               0\n",
      "3695 - Taxa de câmbio - Livre - Dólar americano (compra) - Fim de período - mensal - u.m.c./US$                                          0\n",
      "4380 - PIB mensal - Valores correntes (R$ milhões) - R$ (milhões)                                                                        0\n",
      "4469 - Dívida Líquida do Setor Público - Saldos em R$ milhões - Total - Governo Federal - R$ (milhões)                                   0\n",
      "4470 - Dívida Líquida do Setor Público - Saldos em R$ milhões - Total - Banco Central - R$ (milhões)                                     0\n",
      "4472 - Dívida Líquida do Setor Público - Saldos em R$ milhões - Total - Governos estaduais - R$ (milhões)                                0\n",
      "4473 - Dívida Líquida do Setor Público - Saldos em R$ milhões - Total - Governos municipais - R$ (milhões)                               0\n",
      "13761 - Dívida bruta do governo geral - Saldos em R$ milhões - Metodologia utilizada a partir de 2008 - R$ (milhões)                     0\n",
      "13762 - Dívida bruta do governo geral (% PIB) - Metodologia utilizada a partir de 2008 - %                                               0\n",
      "13763 - Dívida bruta do governo geral - Saldos em US$ milhões - Metodologia utilizada a partir de 2008 - US$ (milhões),,,,,,,,,,         0\n",
      "4189 - Taxa de juros - Selic acumulada no mês anualizada base 252 - % a.a.                                                               0\n",
      "4390 - Taxa de juros - Selic acumulada no mês - % a.m.,,                                                                                 0\n",
      "29037 - Endividamento das famílias com o Sistema Financeiro Nacional em relação à renda acumulada dos últimos doze meses (RNDBF) - %,    0\n",
      "dtype: int64\n",
      "Data\n",
      "01/2007    1\n",
      "01/2008    1\n",
      "01/2009    1\n",
      "01/2010    1\n",
      "01/2011    1\n",
      "          ..\n",
      "12/2020    1\n",
      "12/2021    1\n",
      "12/2022    1\n",
      "12/2023    1\n",
      "12/2024    1\n",
      "Name: count, Length: 220, dtype: int64\n",
      "Data                                                                                                                                     220\n",
      "433 - Índice nacional de preços ao consumidor-amplo (IPCA) - Var. % mensal                                                               103\n",
      "3695 - Taxa de câmbio - Livre - Dólar americano (compra) - Fim de período - mensal - u.m.c./US$                                          218\n",
      "4380 - PIB mensal - Valores correntes (R$ milhões) - R$ (milhões)                                                                        220\n",
      "4469 - Dívida Líquida do Setor Público - Saldos em R$ milhões - Total - Governo Federal - R$ (milhões)                                   220\n",
      "4470 - Dívida Líquida do Setor Público - Saldos em R$ milhões - Total - Banco Central - R$ (milhões)                                     220\n",
      "4472 - Dívida Líquida do Setor Público - Saldos em R$ milhões - Total - Governos estaduais - R$ (milhões)                                220\n",
      "4473 - Dívida Líquida do Setor Público - Saldos em R$ milhões - Total - Governos municipais - R$ (milhões)                               220\n",
      "13761 - Dívida bruta do governo geral - Saldos em R$ milhões - Metodologia utilizada a partir de 2008 - R$ (milhões)                     220\n",
      "13762 - Dívida bruta do governo geral (% PIB) - Metodologia utilizada a partir de 2008 - %                                               211\n",
      "13763 - Dívida bruta do governo geral - Saldos em US$ milhões - Metodologia utilizada a partir de 2008 - US$ (milhões),,,,,,,,,,         220\n",
      "4189 - Taxa de juros - Selic acumulada no mês anualizada base 252 - % a.a.                                                               137\n",
      "4390 - Taxa de juros - Selic acumulada no mês - % a.m.,,                                                                                  81\n",
      "29037 - Endividamento das famílias com o Sistema Financeiro Nacional em relação à renda acumulada dos últimos doze meses (RNDBF) - %,    202\n",
      "dtype: int64\n"
     ]
    }
   ],
   "source": [
    "import pandas as pd\n",
    "\n",
    "#importando os dados\n",
    "df1 = pd.read_csv(\"dataset_grupo1.csv\", encoding=\"latin1\", sep = \";\")\n",
    "\n",
    "df2 = pd.read_csv(\"dataset2_grupo1.csv\", encoding=\"latin1\", sep = \";\")\n",
    "\n",
    "df3 = pd.read_csv(\"dataset3_grupo1.csv\", encoding=\"latin1\", sep = \";\")\n",
    "\n",
    "#fazendo a junção dos dados em uma tabela única\n",
    "dados = pd.merge(df1, df2, on=\"Data\")\n",
    "dados = pd.merge(dados, df3, on=\"Data\")\n",
    "\n",
    "dados.head()\n",
    " \n",
    " #conferindo os dados:\n",
    "print(dados.isnull().sum())\n",
    "#não há n.a values\n",
    "print(dados['Data'].value_counts().sort_index())\n",
    "# dados não repetidos\n",
    "print(dados.nunique())\n",
    "\n",
    "#aparentemente tudo certo :)\n"
   ]
  }
 ],
 "metadata": {
  "kernelspec": {
   "display_name": "base",
   "language": "python",
   "name": "python3"
  },
  "language_info": {
   "codemirror_mode": {
    "name": "ipython",
    "version": 3
   },
   "file_extension": ".py",
   "mimetype": "text/x-python",
   "name": "python",
   "nbconvert_exporter": "python",
   "pygments_lexer": "ipython3",
   "version": "3.12.7"
  }
 },
 "nbformat": 4,
 "nbformat_minor": 5
}
